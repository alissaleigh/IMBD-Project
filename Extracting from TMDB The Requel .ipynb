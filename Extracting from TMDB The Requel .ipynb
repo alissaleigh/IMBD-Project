{
 "cells": [
  {
   "cell_type": "markdown",
   "id": "c668eff1",
   "metadata": {},
   "source": [
    "# Extract from TMDB"
   ]
  },
  {
   "cell_type": "markdown",
   "id": "a15aedc1",
   "metadata": {},
   "source": [
    "## Importing Tools"
   ]
  },
  {
   "cell_type": "code",
   "execution_count": 1,
   "id": "7200af8e",
   "metadata": {},
   "outputs": [],
   "source": [
    "import numpy as np\n",
    "import pandas as pd\n",
    "import matplotlib.pyplot as plt\n",
    "import seaborn as sns\n",
    "\n",
    "import os, json, math, time\n",
    "import tmdbsimple as tmdb\n",
    "from tqdm.notebook import tqdm_notebook"
   ]
  },
  {
   "cell_type": "markdown",
   "id": "50e03c91",
   "metadata": {},
   "source": [
    "## TMD Api Key"
   ]
  },
  {
   "cell_type": "code",
   "execution_count": 2,
   "id": "86ebfc0d",
   "metadata": {},
   "outputs": [
    {
     "data": {
      "text/plain": [
       "dict_keys(['access-token', 'api-key'])"
      ]
     },
     "execution_count": 2,
     "metadata": {},
     "output_type": "execute_result"
    }
   ],
   "source": [
    "with open('/Users/aliss/.secret/tmd_api.json', 'r') as f:\n",
    "    login = json.load(f)\n",
    "## Display the keys of the loaded dict\n",
    "login.keys()"
   ]
  },
  {
   "cell_type": "code",
   "execution_count": 3,
   "id": "9cf26a42",
   "metadata": {},
   "outputs": [],
   "source": [
    "tmdb.API_KEY =  login['api-key']"
   ]
  },
  {
   "cell_type": "markdown",
   "id": "8142723b",
   "metadata": {},
   "source": [
    "## Querying Movies by ID"
   ]
  },
  {
   "cell_type": "code",
   "execution_count": 4,
   "id": "08ebae0b",
   "metadata": {},
   "outputs": [],
   "source": [
    "movie = tmdb.Movies(603)"
   ]
  },
  {
   "cell_type": "code",
   "execution_count": 5,
   "id": "9cfe8387",
   "metadata": {},
   "outputs": [
    {
     "data": {
      "text/plain": [
       "{'adult': False,\n",
       " 'backdrop_path': '/l4QHerTSbMI7qgvasqxP36pqjN6.jpg',\n",
       " 'belongs_to_collection': {'id': 2344,\n",
       "  'name': 'The Matrix Collection',\n",
       "  'poster_path': '/bV9qTVHTVf0gkW0j7p7M0ILD4pG.jpg',\n",
       "  'backdrop_path': '/bRm2DEgUiYciDw3myHuYFInD7la.jpg'},\n",
       " 'budget': 63000000,\n",
       " 'genres': [{'id': 28, 'name': 'Action'},\n",
       "  {'id': 878, 'name': 'Science Fiction'}],\n",
       " 'homepage': 'http://www.warnerbros.com/matrix',\n",
       " 'id': 603,\n",
       " 'imdb_id': 'tt0133093',\n",
       " 'original_language': 'en',\n",
       " 'original_title': 'The Matrix',\n",
       " 'overview': 'Set in the 22nd century, The Matrix tells the story of a computer hacker who joins a group of underground insurgents fighting the vast and powerful computers who now rule the earth.',\n",
       " 'popularity': 64.286,\n",
       " 'poster_path': '/f89U3ADr1oiB1s9GkdPOEpXUk5H.jpg',\n",
       " 'production_companies': [{'id': 79,\n",
       "   'logo_path': '/tpFpsqbleCzEE2p5EgvUq6ozfCA.png',\n",
       "   'name': 'Village Roadshow Pictures',\n",
       "   'origin_country': 'US'},\n",
       "  {'id': 372,\n",
       "   'logo_path': None,\n",
       "   'name': 'Groucho II Film Partnership',\n",
       "   'origin_country': ''},\n",
       "  {'id': 1885,\n",
       "   'logo_path': '/tXMFoE8AtNdnFzWOW0aCLwl7xxS.png',\n",
       "   'name': 'Silver Pictures',\n",
       "   'origin_country': 'US'},\n",
       "  {'id': 174,\n",
       "   'logo_path': '/IuAlhI9eVC9Z8UQWOIDdWRKSEJ.png',\n",
       "   'name': 'Warner Bros. Pictures',\n",
       "   'origin_country': 'US'}],\n",
       " 'production_countries': [{'iso_3166_1': 'US',\n",
       "   'name': 'United States of America'}],\n",
       " 'release_date': '1999-03-30',\n",
       " 'revenue': 463517383,\n",
       " 'runtime': 136,\n",
       " 'spoken_languages': [{'english_name': 'English',\n",
       "   'iso_639_1': 'en',\n",
       "   'name': 'English'}],\n",
       " 'status': 'Released',\n",
       " 'tagline': 'Welcome to the Real World.',\n",
       " 'title': 'The Matrix',\n",
       " 'video': False,\n",
       " 'vote_average': 8.201,\n",
       " 'vote_count': 23153}"
      ]
     },
     "execution_count": 5,
     "metadata": {},
     "output_type": "execute_result"
    }
   ],
   "source": [
    "info = movie.info()\n",
    "info"
   ]
  },
  {
   "cell_type": "code",
   "execution_count": 6,
   "id": "56142fb5",
   "metadata": {},
   "outputs": [
    {
     "data": {
      "text/plain": [
       "63000000"
      ]
     },
     "execution_count": 6,
     "metadata": {},
     "output_type": "execute_result"
    }
   ],
   "source": [
    "info['budget']"
   ]
  },
  {
   "cell_type": "code",
   "execution_count": 7,
   "id": "d0490064",
   "metadata": {},
   "outputs": [
    {
     "data": {
      "text/plain": [
       "463517383"
      ]
     },
     "execution_count": 7,
     "metadata": {},
     "output_type": "execute_result"
    }
   ],
   "source": [
    "info['revenue']"
   ]
  },
  {
   "cell_type": "code",
   "execution_count": 8,
   "id": "a6ef502b",
   "metadata": {},
   "outputs": [
    {
     "data": {
      "text/plain": [
       "'tt0133093'"
      ]
     },
     "execution_count": 8,
     "metadata": {},
     "output_type": "execute_result"
    }
   ],
   "source": [
    "info['imdb_id']"
   ]
  },
  {
   "cell_type": "code",
   "execution_count": 9,
   "id": "83a5b207",
   "metadata": {},
   "outputs": [
    {
     "data": {
      "text/plain": [
       "50000000"
      ]
     },
     "execution_count": 9,
     "metadata": {},
     "output_type": "execute_result"
    }
   ],
   "source": [
    "movie = tmdb.Movies('tt1361336')\n",
    "info = movie.info()\n",
    "info['budget']"
   ]
  },
  {
   "cell_type": "code",
   "execution_count": 10,
   "id": "dc8f749f",
   "metadata": {},
   "outputs": [
    {
     "name": "stdout",
     "output_type": "stream",
     "text": [
      "PG\n",
      "PG\n",
      "PG\n"
     ]
    }
   ],
   "source": [
    "# example from package README\n",
    "# source = https://github.com/celiao/tmdbsimple\n",
    "releases = movie.releases()\n",
    "for c in releases['countries']:\n",
    "    if c['iso_3166_1'] == 'US':\n",
    "        print(c['certification'])"
   ]
  },
  {
   "cell_type": "code",
   "execution_count": 11,
   "id": "21fac605",
   "metadata": {},
   "outputs": [],
   "source": [
    "movie = tmdb.Movies('tt1361336')\n",
    "\n",
    "info = movie.info()\n",
    "releases = movie.releases()\n",
    "\n",
    "for c in releases['countries']:\n",
    "    \n",
    "    if c['iso_3166_1' ] =='US':\n",
    "\n",
    "        info['certification'] = c['certification']"
   ]
  },
  {
   "cell_type": "code",
   "execution_count": 12,
   "id": "d9703b9a",
   "metadata": {},
   "outputs": [],
   "source": [
    "def get_movie_with_rating(movie_id):\n",
    "    movie = tmdb.Movies(movie_id)\n",
    "    \n",
    "    info = movie.info()\n",
    "    \n",
    "    releases = movie.releases()\n",
    "    \n",
    "    for c in releases['countries']:\n",
    "    \n",
    "        if c['iso_3166_1'] =='US':\n",
    "            \n",
    "            info['certification'] = c['certification']\n",
    "    return info"
   ]
  },
  {
   "cell_type": "code",
   "execution_count": 13,
   "id": "7e4c265e",
   "metadata": {},
   "outputs": [
    {
     "data": {
      "text/plain": [
       "{'adult': False,\n",
       " 'backdrop_path': '/9BBTo63ANSmhC4e6r62OJFuK2GL.jpg',\n",
       " 'belongs_to_collection': {'id': 86311,\n",
       "  'name': 'The Avengers Collection',\n",
       "  'poster_path': '/yFSIUVTCvgYrpalUktulvk3Gi5Y.jpg',\n",
       "  'backdrop_path': '/zuW6fOiusv4X9nnW3paHGfXcSll.jpg'},\n",
       " 'budget': 220000000,\n",
       " 'genres': [{'id': 878, 'name': 'Science Fiction'},\n",
       "  {'id': 28, 'name': 'Action'},\n",
       "  {'id': 12, 'name': 'Adventure'}],\n",
       " 'homepage': 'https://www.marvel.com/movies/the-avengers',\n",
       " 'id': 24428,\n",
       " 'imdb_id': 'tt0848228',\n",
       " 'original_language': 'en',\n",
       " 'original_title': 'The Avengers',\n",
       " 'overview': 'When an unexpected enemy emerges and threatens global safety and security, Nick Fury, director of the international peacekeeping agency known as S.H.I.E.L.D., finds himself in need of a team to pull the world back from the brink of disaster. Spanning the globe, a daring recruitment effort begins!',\n",
       " 'popularity': 106.527,\n",
       " 'poster_path': '/RYMX2wcKCBAr24UyPD7xwmjaTn.jpg',\n",
       " 'production_companies': [{'id': 420,\n",
       "   'logo_path': '/hUzeosd33nzE5MCNsZxCGEKTXaQ.png',\n",
       "   'name': 'Marvel Studios',\n",
       "   'origin_country': 'US'}],\n",
       " 'production_countries': [{'iso_3166_1': 'US',\n",
       "   'name': 'United States of America'}],\n",
       " 'release_date': '2012-04-25',\n",
       " 'revenue': 1518815515,\n",
       " 'runtime': 143,\n",
       " 'spoken_languages': [{'english_name': 'English',\n",
       "   'iso_639_1': 'en',\n",
       "   'name': 'English'},\n",
       "  {'english_name': 'Hindi', 'iso_639_1': 'hi', 'name': 'हिन्दी'},\n",
       "  {'english_name': 'Russian', 'iso_639_1': 'ru', 'name': 'Pусский'}],\n",
       " 'status': 'Released',\n",
       " 'tagline': 'Some assembly required.',\n",
       " 'title': 'The Avengers',\n",
       " 'video': False,\n",
       " 'vote_average': 7.707,\n",
       " 'vote_count': 28554,\n",
       " 'certification': 'PG-13'}"
      ]
     },
     "execution_count": 13,
     "metadata": {},
     "output_type": "execute_result"
    }
   ],
   "source": [
    "test = get_movie_with_rating(\"tt0848228\")\n",
    "test"
   ]
  },
  {
   "cell_type": "markdown",
   "id": "cff81a2b",
   "metadata": {},
   "source": [
    "## Loop"
   ]
  },
  {
   "cell_type": "code",
   "execution_count": 14,
   "id": "6794ef87",
   "metadata": {},
   "outputs": [
    {
     "data": {
      "text/plain": [
       "['.ipynb_checkpoints',\n",
       " 'final_tmdb_data_2000.csv.gz',\n",
       " 'final_tmdb_data_2001.csv.gz',\n",
       " 'Medical Dataset.csv',\n",
       " 'title.akas.tsv.gz',\n",
       " 'title.ratings.tsv.gz',\n",
       " 'title_basics.csv.gz',\n",
       " 'tmdb_api_results_2000.json',\n",
       " 'tmdb_api_results_2001.json',\n",
       " 'US Health Insurance Dataset.csv']"
      ]
     },
     "execution_count": 14,
     "metadata": {},
     "output_type": "execute_result"
    }
   ],
   "source": [
    "FOLDER = \"Data/\"\n",
    "os.makedirs(FOLDER, exist_ok=True)\n",
    "os.listdir(FOLDER)"
   ]
  },
  {
   "cell_type": "code",
   "execution_count": 15,
   "id": "5e39e845",
   "metadata": {},
   "outputs": [],
   "source": [
    "def write_json(new_data, filename): \n",
    "    \n",
    "    with open(filename,'r+') as file:\n",
    "        \n",
    "        file_data = json.load(file)\n",
    "        \n",
    "        if (type(new_data) == list) & (type(file_data) == list):\n",
    "            file_data.extend(new_data)\n",
    "        else:\n",
    "             file_data.append(new_data)\n",
    "                \n",
    "        file.seek(0)\n",
    "        \n",
    "        json.dump(file_data, file)"
   ]
  },
  {
   "cell_type": "code",
   "execution_count": 16,
   "id": "62892520",
   "metadata": {},
   "outputs": [],
   "source": [
    "basics = pd.read_csv(r\"C:\\Users\\aliss\\Data\\title_basics.csv.gz\")"
   ]
  },
  {
   "cell_type": "code",
   "execution_count": 17,
   "id": "fe803509",
   "metadata": {},
   "outputs": [],
   "source": [
    "YEARS_TO_GET = [2000,2001]"
   ]
  },
  {
   "cell_type": "code",
   "execution_count": 18,
   "id": "aa42a091",
   "metadata": {},
   "outputs": [],
   "source": [
    "errors = [ ]"
   ]
  },
  {
   "cell_type": "code",
   "execution_count": 19,
   "id": "52429548",
   "metadata": {},
   "outputs": [
    {
     "data": {
      "application/vnd.jupyter.widget-view+json": {
       "model_id": "d1ca836423a4413096444ef20b330330",
       "version_major": 2,
       "version_minor": 0
      },
      "text/plain": [
       "YEARS:   0%|          | 0/2 [00:00<?, ?it/s]"
      ]
     },
     "metadata": {},
     "output_type": "display_data"
    },
    {
     "data": {
      "application/vnd.jupyter.widget-view+json": {
       "model_id": "102e061bcb514c7fa7e233a0b2ba6d5c",
       "version_major": 2,
       "version_minor": 0
      },
      "text/plain": [
       "Movies from 2000:   0%|          | 0/212 [00:00<?, ?it/s]"
      ]
     },
     "metadata": {},
     "output_type": "display_data"
    },
    {
     "data": {
      "application/vnd.jupyter.widget-view+json": {
       "model_id": "b09c567d112247658edab52cae7fa745",
       "version_major": 2,
       "version_minor": 0
      },
      "text/plain": [
       "Movies from 2001:   0%|          | 0/240 [00:00<?, ?it/s]"
      ]
     },
     "metadata": {},
     "output_type": "display_data"
    }
   ],
   "source": [
    "for YEAR in tqdm_notebook(YEARS_TO_GET, desc='YEARS', position=0):\n",
    "    JSON_FILE = f'{FOLDER}tmdb_api_results_{YEAR}.json'\n",
    "    file_exists = os.path.isfile(JSON_FILE)\n",
    "\n",
    "    if file_exists == False:\n",
    "    \n",
    "     with open(JSON_FILE,'w') as f:\n",
    "        json.dump([{'imdb_id':0}],f)\n",
    "\n",
    "    df = basics.loc[ basics['startYear']==YEAR].copy()\n",
    "\n",
    "    movie_ids = df['tconst'].copy()\n",
    "\n",
    "    previous_df = pd.read_json(JSON_FILE)\n",
    "\n",
    "    movie_ids_to_get = movie_ids[~movie_ids.isin(previous_df['imdb_id'])]\n",
    "\n",
    "\n",
    "    for movie_id in tqdm_notebook(movie_ids_to_get,\n",
    "                                  desc=f'Movies from {YEAR}',\n",
    "                                  position=1,\n",
    "                                  leave=True):\n",
    "        try:\n",
    "            temp = get_movie_with_rating(movie_id) \n",
    "        \n",
    "            write_json(temp,JSON_FILE)\n",
    "            \n",
    "            time.sleep(0.02)\n",
    "            \n",
    "        except Exception as e:\n",
    "            errors.append([movie_id, e])\n",
    "\n",
    "    final_year_df = pd.read_json(JSON_FILE)\n",
    "    final_year_df.to_csv(f\"{FOLDER}final_tmdb_data_{YEAR}.csv.gz\", compression=\"gzip\", index=False)"
   ]
  },
  {
   "cell_type": "code",
   "execution_count": 20,
   "id": "895f5310",
   "metadata": {},
   "outputs": [
    {
     "name": "stdout",
     "output_type": "stream",
     "text": [
      "- Total errors: 452\n"
     ]
    }
   ],
   "source": [
    "print(f\"- Total errors: {len(errors)}\")"
   ]
  },
  {
   "cell_type": "markdown",
   "id": "bc09e338",
   "metadata": {},
   "source": [
    "## Exploratory Data Analysis\n"
   ]
  },
  {
   "cell_type": "markdown",
   "id": "54a800a6",
   "metadata": {},
   "source": [
    "### Concatenating The Data"
   ]
  },
  {
   "cell_type": "code",
   "execution_count": 21,
   "id": "e714dbe1",
   "metadata": {},
   "outputs": [
    {
     "data": {
      "text/html": [
       "<div>\n",
       "<style scoped>\n",
       "    .dataframe tbody tr th:only-of-type {\n",
       "        vertical-align: middle;\n",
       "    }\n",
       "\n",
       "    .dataframe tbody tr th {\n",
       "        vertical-align: top;\n",
       "    }\n",
       "\n",
       "    .dataframe thead th {\n",
       "        text-align: right;\n",
       "    }\n",
       "</style>\n",
       "<table border=\"1\" class=\"dataframe\">\n",
       "  <thead>\n",
       "    <tr style=\"text-align: right;\">\n",
       "      <th></th>\n",
       "      <th>imdb_id</th>\n",
       "      <th>adult</th>\n",
       "      <th>backdrop_path</th>\n",
       "      <th>belongs_to_collection</th>\n",
       "      <th>budget</th>\n",
       "      <th>genres</th>\n",
       "      <th>homepage</th>\n",
       "      <th>id</th>\n",
       "      <th>original_language</th>\n",
       "      <th>original_title</th>\n",
       "      <th>...</th>\n",
       "      <th>revenue</th>\n",
       "      <th>runtime</th>\n",
       "      <th>spoken_languages</th>\n",
       "      <th>status</th>\n",
       "      <th>tagline</th>\n",
       "      <th>title</th>\n",
       "      <th>video</th>\n",
       "      <th>vote_average</th>\n",
       "      <th>vote_count</th>\n",
       "      <th>certification</th>\n",
       "    </tr>\n",
       "  </thead>\n",
       "  <tbody>\n",
       "    <tr>\n",
       "      <th>0</th>\n",
       "      <td>0</td>\n",
       "      <td>NaN</td>\n",
       "      <td>NaN</td>\n",
       "      <td>NaN</td>\n",
       "      <td>NaN</td>\n",
       "      <td>NaN</td>\n",
       "      <td>NaN</td>\n",
       "      <td>NaN</td>\n",
       "      <td>NaN</td>\n",
       "      <td>NaN</td>\n",
       "      <td>...</td>\n",
       "      <td>NaN</td>\n",
       "      <td>NaN</td>\n",
       "      <td>NaN</td>\n",
       "      <td>NaN</td>\n",
       "      <td>NaN</td>\n",
       "      <td>NaN</td>\n",
       "      <td>NaN</td>\n",
       "      <td>NaN</td>\n",
       "      <td>NaN</td>\n",
       "      <td>NaN</td>\n",
       "    </tr>\n",
       "    <tr>\n",
       "      <th>1</th>\n",
       "      <td>tt0035423</td>\n",
       "      <td>0.0</td>\n",
       "      <td>/hfeiSfWYujh6MKhtGTXyK3DD4nN.jpg</td>\n",
       "      <td>NaN</td>\n",
       "      <td>48000000.0</td>\n",
       "      <td>[{'id': 10749, 'name': 'Romance'}, {'id': 14, ...</td>\n",
       "      <td>NaN</td>\n",
       "      <td>11232.0</td>\n",
       "      <td>en</td>\n",
       "      <td>Kate &amp; Leopold</td>\n",
       "      <td>...</td>\n",
       "      <td>76019048.0</td>\n",
       "      <td>118.0</td>\n",
       "      <td>[{'english_name': 'English', 'iso_639_1': 'en'...</td>\n",
       "      <td>Released</td>\n",
       "      <td>If they lived in the same century, they'd be p...</td>\n",
       "      <td>Kate &amp; Leopold</td>\n",
       "      <td>0.0</td>\n",
       "      <td>6.327</td>\n",
       "      <td>1188.0</td>\n",
       "      <td>PG-13</td>\n",
       "    </tr>\n",
       "    <tr>\n",
       "      <th>2</th>\n",
       "      <td>tt0114447</td>\n",
       "      <td>0.0</td>\n",
       "      <td>NaN</td>\n",
       "      <td>NaN</td>\n",
       "      <td>0.0</td>\n",
       "      <td>[{'id': 53, 'name': 'Thriller'}, {'id': 28, 'n...</td>\n",
       "      <td>NaN</td>\n",
       "      <td>151007.0</td>\n",
       "      <td>en</td>\n",
       "      <td>The Silent Force</td>\n",
       "      <td>...</td>\n",
       "      <td>0.0</td>\n",
       "      <td>90.0</td>\n",
       "      <td>[{'english_name': 'English', 'iso_639_1': 'en'...</td>\n",
       "      <td>Released</td>\n",
       "      <td>They left him for dead... They should have fin...</td>\n",
       "      <td>The Silent Force</td>\n",
       "      <td>0.0</td>\n",
       "      <td>5.000</td>\n",
       "      <td>3.0</td>\n",
       "      <td>NaN</td>\n",
       "    </tr>\n",
       "    <tr>\n",
       "      <th>3</th>\n",
       "      <td>tt0116916</td>\n",
       "      <td>0.0</td>\n",
       "      <td>/rFpHBidSlhjflmnLu7BZilyKeQR.jpg</td>\n",
       "      <td>NaN</td>\n",
       "      <td>0.0</td>\n",
       "      <td>[{'id': 28, 'name': 'Action'}, {'id': 12, 'nam...</td>\n",
       "      <td>NaN</td>\n",
       "      <td>73549.0</td>\n",
       "      <td>en</td>\n",
       "      <td>The Dark Mist</td>\n",
       "      <td>...</td>\n",
       "      <td>0.0</td>\n",
       "      <td>101.0</td>\n",
       "      <td>[{'english_name': 'English', 'iso_639_1': 'en'...</td>\n",
       "      <td>Released</td>\n",
       "      <td>NaN</td>\n",
       "      <td>The Dark Mist</td>\n",
       "      <td>0.0</td>\n",
       "      <td>3.500</td>\n",
       "      <td>2.0</td>\n",
       "      <td>PG</td>\n",
       "    </tr>\n",
       "    <tr>\n",
       "      <th>4</th>\n",
       "      <td>tt0118589</td>\n",
       "      <td>0.0</td>\n",
       "      <td>/9NZAirJahVilTiDNCHLFcdkwkiy.jpg</td>\n",
       "      <td>NaN</td>\n",
       "      <td>22000000.0</td>\n",
       "      <td>[{'id': 18, 'name': 'Drama'}, {'id': 10402, 'n...</td>\n",
       "      <td>NaN</td>\n",
       "      <td>10696.0</td>\n",
       "      <td>en</td>\n",
       "      <td>Glitter</td>\n",
       "      <td>...</td>\n",
       "      <td>5271666.0</td>\n",
       "      <td>104.0</td>\n",
       "      <td>[{'english_name': 'English', 'iso_639_1': 'en'...</td>\n",
       "      <td>Released</td>\n",
       "      <td>In music she found her dream, her love, herself.</td>\n",
       "      <td>Glitter</td>\n",
       "      <td>0.0</td>\n",
       "      <td>4.536</td>\n",
       "      <td>124.0</td>\n",
       "      <td>PG-13</td>\n",
       "    </tr>\n",
       "    <tr>\n",
       "      <th>...</th>\n",
       "      <td>...</td>\n",
       "      <td>...</td>\n",
       "      <td>...</td>\n",
       "      <td>...</td>\n",
       "      <td>...</td>\n",
       "      <td>...</td>\n",
       "      <td>...</td>\n",
       "      <td>...</td>\n",
       "      <td>...</td>\n",
       "      <td>...</td>\n",
       "      <td>...</td>\n",
       "      <td>...</td>\n",
       "      <td>...</td>\n",
       "      <td>...</td>\n",
       "      <td>...</td>\n",
       "      <td>...</td>\n",
       "      <td>...</td>\n",
       "      <td>...</td>\n",
       "      <td>...</td>\n",
       "      <td>...</td>\n",
       "      <td>...</td>\n",
       "    </tr>\n",
       "    <tr>\n",
       "      <th>1326</th>\n",
       "      <td>tt7797670</td>\n",
       "      <td>0.0</td>\n",
       "      <td>NaN</td>\n",
       "      <td>NaN</td>\n",
       "      <td>0.0</td>\n",
       "      <td>[{'id': 27, 'name': 'Horror'}]</td>\n",
       "      <td>NaN</td>\n",
       "      <td>956214.0</td>\n",
       "      <td>en</td>\n",
       "      <td>Edmund Kemper Part 2: La Mort C'est La Vie</td>\n",
       "      <td>...</td>\n",
       "      <td>0.0</td>\n",
       "      <td>91.0</td>\n",
       "      <td>[]</td>\n",
       "      <td>Released</td>\n",
       "      <td>NaN</td>\n",
       "      <td>Edmund Kemper Part 2: La Mort C'est La Vie</td>\n",
       "      <td>0.0</td>\n",
       "      <td>0.000</td>\n",
       "      <td>0.0</td>\n",
       "      <td>NaN</td>\n",
       "    </tr>\n",
       "    <tr>\n",
       "      <th>1327</th>\n",
       "      <td>tt7797790</td>\n",
       "      <td>0.0</td>\n",
       "      <td>NaN</td>\n",
       "      <td>NaN</td>\n",
       "      <td>0.0</td>\n",
       "      <td>[{'id': 27, 'name': 'Horror'}]</td>\n",
       "      <td>NaN</td>\n",
       "      <td>956219.0</td>\n",
       "      <td>en</td>\n",
       "      <td>Edmund Kemper Part 3: La mort sévit</td>\n",
       "      <td>...</td>\n",
       "      <td>0.0</td>\n",
       "      <td>72.0</td>\n",
       "      <td>[{'english_name': 'French', 'iso_639_1': 'fr',...</td>\n",
       "      <td>Released</td>\n",
       "      <td>NaN</td>\n",
       "      <td>Edmund Kemper Part 3: La mort sévit</td>\n",
       "      <td>0.0</td>\n",
       "      <td>0.000</td>\n",
       "      <td>0.0</td>\n",
       "      <td>NaN</td>\n",
       "    </tr>\n",
       "    <tr>\n",
       "      <th>1328</th>\n",
       "      <td>tt8665056</td>\n",
       "      <td>0.0</td>\n",
       "      <td>NaN</td>\n",
       "      <td>NaN</td>\n",
       "      <td>0.0</td>\n",
       "      <td>[{'id': 37, 'name': 'Western'}]</td>\n",
       "      <td>http://skeletoncreekproductions.com/p-movie-br...</td>\n",
       "      <td>885436.0</td>\n",
       "      <td>en</td>\n",
       "      <td>Guns Along The Bravo</td>\n",
       "      <td>...</td>\n",
       "      <td>0.0</td>\n",
       "      <td>85.0</td>\n",
       "      <td>[]</td>\n",
       "      <td>Released</td>\n",
       "      <td>Evil came to the Southwest until three blazing...</td>\n",
       "      <td>Guns Along The Bravo</td>\n",
       "      <td>0.0</td>\n",
       "      <td>0.000</td>\n",
       "      <td>0.0</td>\n",
       "      <td>NaN</td>\n",
       "    </tr>\n",
       "    <tr>\n",
       "      <th>1329</th>\n",
       "      <td>tt8795764</td>\n",
       "      <td>0.0</td>\n",
       "      <td>NaN</td>\n",
       "      <td>NaN</td>\n",
       "      <td>0.0</td>\n",
       "      <td>[{'id': 27, 'name': 'Horror'}]</td>\n",
       "      <td>https://www.utahwolf.com/films/coming-soon-new...</td>\n",
       "      <td>871624.0</td>\n",
       "      <td>en</td>\n",
       "      <td>New Breed</td>\n",
       "      <td>...</td>\n",
       "      <td>0.0</td>\n",
       "      <td>57.0</td>\n",
       "      <td>[{'english_name': 'English', 'iso_639_1': 'en'...</td>\n",
       "      <td>Released</td>\n",
       "      <td>NaN</td>\n",
       "      <td>New Breed</td>\n",
       "      <td>0.0</td>\n",
       "      <td>0.000</td>\n",
       "      <td>0.0</td>\n",
       "      <td>NR</td>\n",
       "    </tr>\n",
       "    <tr>\n",
       "      <th>1330</th>\n",
       "      <td>tt9071078</td>\n",
       "      <td>0.0</td>\n",
       "      <td>NaN</td>\n",
       "      <td>NaN</td>\n",
       "      <td>0.0</td>\n",
       "      <td>[{'id': 28, 'name': 'Action'}]</td>\n",
       "      <td>NaN</td>\n",
       "      <td>201706.0</td>\n",
       "      <td>cn</td>\n",
       "      <td>致命密函</td>\n",
       "      <td>...</td>\n",
       "      <td>0.0</td>\n",
       "      <td>90.0</td>\n",
       "      <td>[{'english_name': 'Cantonese', 'iso_639_1': 'c...</td>\n",
       "      <td>Released</td>\n",
       "      <td>NaN</td>\n",
       "      <td>Chinese Heroes</td>\n",
       "      <td>0.0</td>\n",
       "      <td>3.000</td>\n",
       "      <td>2.0</td>\n",
       "      <td>NaN</td>\n",
       "    </tr>\n",
       "  </tbody>\n",
       "</table>\n",
       "<p>1331 rows × 26 columns</p>\n",
       "</div>"
      ],
      "text/plain": [
       "        imdb_id  adult                     backdrop_path  \\\n",
       "0             0    NaN                               NaN   \n",
       "1     tt0035423    0.0  /hfeiSfWYujh6MKhtGTXyK3DD4nN.jpg   \n",
       "2     tt0114447    0.0                               NaN   \n",
       "3     tt0116916    0.0  /rFpHBidSlhjflmnLu7BZilyKeQR.jpg   \n",
       "4     tt0118589    0.0  /9NZAirJahVilTiDNCHLFcdkwkiy.jpg   \n",
       "...         ...    ...                               ...   \n",
       "1326  tt7797670    0.0                               NaN   \n",
       "1327  tt7797790    0.0                               NaN   \n",
       "1328  tt8665056    0.0                               NaN   \n",
       "1329  tt8795764    0.0                               NaN   \n",
       "1330  tt9071078    0.0                               NaN   \n",
       "\n",
       "     belongs_to_collection      budget  \\\n",
       "0                      NaN         NaN   \n",
       "1                      NaN  48000000.0   \n",
       "2                      NaN         0.0   \n",
       "3                      NaN         0.0   \n",
       "4                      NaN  22000000.0   \n",
       "...                    ...         ...   \n",
       "1326                   NaN         0.0   \n",
       "1327                   NaN         0.0   \n",
       "1328                   NaN         0.0   \n",
       "1329                   NaN         0.0   \n",
       "1330                   NaN         0.0   \n",
       "\n",
       "                                                 genres  \\\n",
       "0                                                   NaN   \n",
       "1     [{'id': 10749, 'name': 'Romance'}, {'id': 14, ...   \n",
       "2     [{'id': 53, 'name': 'Thriller'}, {'id': 28, 'n...   \n",
       "3     [{'id': 28, 'name': 'Action'}, {'id': 12, 'nam...   \n",
       "4     [{'id': 18, 'name': 'Drama'}, {'id': 10402, 'n...   \n",
       "...                                                 ...   \n",
       "1326                     [{'id': 27, 'name': 'Horror'}]   \n",
       "1327                     [{'id': 27, 'name': 'Horror'}]   \n",
       "1328                    [{'id': 37, 'name': 'Western'}]   \n",
       "1329                     [{'id': 27, 'name': 'Horror'}]   \n",
       "1330                     [{'id': 28, 'name': 'Action'}]   \n",
       "\n",
       "                                               homepage        id  \\\n",
       "0                                                   NaN       NaN   \n",
       "1                                                   NaN   11232.0   \n",
       "2                                                   NaN  151007.0   \n",
       "3                                                   NaN   73549.0   \n",
       "4                                                   NaN   10696.0   \n",
       "...                                                 ...       ...   \n",
       "1326                                                NaN  956214.0   \n",
       "1327                                                NaN  956219.0   \n",
       "1328  http://skeletoncreekproductions.com/p-movie-br...  885436.0   \n",
       "1329  https://www.utahwolf.com/films/coming-soon-new...  871624.0   \n",
       "1330                                                NaN  201706.0   \n",
       "\n",
       "     original_language                              original_title  ...  \\\n",
       "0                  NaN                                         NaN  ...   \n",
       "1                   en                              Kate & Leopold  ...   \n",
       "2                   en                            The Silent Force  ...   \n",
       "3                   en                               The Dark Mist  ...   \n",
       "4                   en                                     Glitter  ...   \n",
       "...                ...                                         ...  ...   \n",
       "1326                en  Edmund Kemper Part 2: La Mort C'est La Vie  ...   \n",
       "1327                en         Edmund Kemper Part 3: La mort sévit  ...   \n",
       "1328                en                        Guns Along The Bravo  ...   \n",
       "1329                en                                   New Breed  ...   \n",
       "1330                cn                                        致命密函  ...   \n",
       "\n",
       "         revenue  runtime                                   spoken_languages  \\\n",
       "0            NaN      NaN                                                NaN   \n",
       "1     76019048.0    118.0  [{'english_name': 'English', 'iso_639_1': 'en'...   \n",
       "2            0.0     90.0  [{'english_name': 'English', 'iso_639_1': 'en'...   \n",
       "3            0.0    101.0  [{'english_name': 'English', 'iso_639_1': 'en'...   \n",
       "4      5271666.0    104.0  [{'english_name': 'English', 'iso_639_1': 'en'...   \n",
       "...          ...      ...                                                ...   \n",
       "1326         0.0     91.0                                                 []   \n",
       "1327         0.0     72.0  [{'english_name': 'French', 'iso_639_1': 'fr',...   \n",
       "1328         0.0     85.0                                                 []   \n",
       "1329         0.0     57.0  [{'english_name': 'English', 'iso_639_1': 'en'...   \n",
       "1330         0.0     90.0  [{'english_name': 'Cantonese', 'iso_639_1': 'c...   \n",
       "\n",
       "        status                                            tagline  \\\n",
       "0          NaN                                                NaN   \n",
       "1     Released  If they lived in the same century, they'd be p...   \n",
       "2     Released  They left him for dead... They should have fin...   \n",
       "3     Released                                                NaN   \n",
       "4     Released   In music she found her dream, her love, herself.   \n",
       "...        ...                                                ...   \n",
       "1326  Released                                                NaN   \n",
       "1327  Released                                                NaN   \n",
       "1328  Released  Evil came to the Southwest until three blazing...   \n",
       "1329  Released                                                NaN   \n",
       "1330  Released                                                NaN   \n",
       "\n",
       "                                           title  video  vote_average  \\\n",
       "0                                            NaN    NaN           NaN   \n",
       "1                                 Kate & Leopold    0.0         6.327   \n",
       "2                               The Silent Force    0.0         5.000   \n",
       "3                                  The Dark Mist    0.0         3.500   \n",
       "4                                        Glitter    0.0         4.536   \n",
       "...                                          ...    ...           ...   \n",
       "1326  Edmund Kemper Part 2: La Mort C'est La Vie    0.0         0.000   \n",
       "1327         Edmund Kemper Part 3: La mort sévit    0.0         0.000   \n",
       "1328                        Guns Along The Bravo    0.0         0.000   \n",
       "1329                                   New Breed    0.0         0.000   \n",
       "1330                              Chinese Heroes    0.0         3.000   \n",
       "\n",
       "     vote_count certification  \n",
       "0           NaN           NaN  \n",
       "1        1188.0         PG-13  \n",
       "2           3.0           NaN  \n",
       "3           2.0            PG  \n",
       "4         124.0         PG-13  \n",
       "...         ...           ...  \n",
       "1326        0.0           NaN  \n",
       "1327        0.0           NaN  \n",
       "1328        0.0           NaN  \n",
       "1329        0.0            NR  \n",
       "1330        2.0           NaN  \n",
       "\n",
       "[1331 rows x 26 columns]"
      ]
     },
     "execution_count": 21,
     "metadata": {},
     "output_type": "execute_result"
    }
   ],
   "source": [
    "final2001 = pd.read_csv(r\"C:\\Users\\aliss\\Data\\final_tmdb_data_2001.csv.gz\")\n",
    "final2001"
   ]
  },
  {
   "cell_type": "markdown",
   "id": "64f2ec49",
   "metadata": {},
   "source": [
    "### How many movies had at least some valid financial information (values > 0 for budget OR revenue)?"
   ]
  },
  {
   "cell_type": "code",
   "execution_count": 22,
   "id": "2986f244",
   "metadata": {},
   "outputs": [
    {
     "data": {
      "text/plain": [
       "False    1097\n",
       "True      234\n",
       "Name: revenue, dtype: int64"
      ]
     },
     "execution_count": 22,
     "metadata": {},
     "output_type": "execute_result"
    }
   ],
   "source": [
    "rev = final2001[\"revenue\"] > 0\n",
    "rev.value_counts()"
   ]
  },
  {
   "cell_type": "code",
   "execution_count": 23,
   "id": "7b511ece",
   "metadata": {},
   "outputs": [
    {
     "data": {
      "text/plain": [
       "False    1039\n",
       "True      292\n",
       "Name: budget, dtype: int64"
      ]
     },
     "execution_count": 23,
     "metadata": {},
     "output_type": "execute_result"
    }
   ],
   "source": [
    "bud = final2001[\"budget\"] > 0\n",
    "bud.value_counts()"
   ]
  },
  {
   "cell_type": "markdown",
   "id": "9ce47229",
   "metadata": {},
   "source": [
    "### How many movies are there in each of the certification categories (G/PG/PG-13/R)?"
   ]
  },
  {
   "cell_type": "code",
   "execution_count": 24,
   "id": "4aa11672",
   "metadata": {},
   "outputs": [
    {
     "data": {
      "text/plain": [
       "R        245\n",
       "PG-13     96\n",
       "NR        38\n",
       "PG        33\n",
       "G         11\n",
       "NC-17      2\n",
       "Name: certification, dtype: int64"
      ]
     },
     "execution_count": 24,
     "metadata": {},
     "output_type": "execute_result"
    }
   ],
   "source": [
    "rate = final2001[\"certification\"]\n",
    "rate.value_counts()"
   ]
  },
  {
   "cell_type": "markdown",
   "id": "a3498227",
   "metadata": {},
   "source": [
    "### What is the average revenue per certification category?"
   ]
  },
  {
   "cell_type": "code",
   "execution_count": 25,
   "id": "988be12d",
   "metadata": {},
   "outputs": [
    {
     "data": {
      "text/plain": [
       "certification\n",
       "PG-13    6.782721e+09\n",
       "R        4.192006e+09\n",
       "PG       2.492580e+09\n",
       "G        9.177266e+08\n",
       "NR       6.131292e+07\n",
       "NC-17    0.000000e+00\n",
       "Name: revenue, dtype: float64"
      ]
     },
     "execution_count": 25,
     "metadata": {},
     "output_type": "execute_result"
    }
   ],
   "source": [
    "ave_by_cat = final2001.groupby(\"certification\")[\"revenue\"].sum()\n",
    "ave_by_cat.sort_values(ascending=False)"
   ]
  },
  {
   "cell_type": "markdown",
   "id": "2ad92f35",
   "metadata": {},
   "source": [
    "### What is the average budget per certification category?"
   ]
  },
  {
   "cell_type": "code",
   "execution_count": 26,
   "id": "f6d9d63c",
   "metadata": {},
   "outputs": [
    {
     "data": {
      "text/plain": [
       "certification\n",
       "PG-13    2.846408e+09\n",
       "R        2.513359e+09\n",
       "PG       7.490972e+08\n",
       "G        2.120000e+08\n",
       "NR       1.680000e+07\n",
       "NC-17    0.000000e+00\n",
       "Name: budget, dtype: float64"
      ]
     },
     "execution_count": 26,
     "metadata": {},
     "output_type": "execute_result"
    }
   ],
   "source": [
    "bud_by_cat = final2001.groupby(\"certification\")[\"budget\"].sum()\n",
    "bud_by_cat.sort_values(ascending=False)"
   ]
  },
  {
   "cell_type": "markdown",
   "id": "5f99097c",
   "metadata": {},
   "source": [
    "## Deliverables"
   ]
  },
  {
   "cell_type": "code",
   "execution_count": 27,
   "id": "77b89df8",
   "metadata": {},
   "outputs": [],
   "source": [
    "final2001 = pd.read_json(r\"C:\\Users\\aliss\\Data\\tmdb_api_results_2001.json\")"
   ]
  },
  {
   "cell_type": "code",
   "execution_count": 28,
   "id": "a8920ff1",
   "metadata": {},
   "outputs": [],
   "source": [
    "final2000 = pd.read_json(r\"C:\\Users\\aliss\\Data\\tmdb_api_results_2000.json\")"
   ]
  },
  {
   "cell_type": "code",
   "execution_count": null,
   "id": "16701e43",
   "metadata": {
    "scrolled": true
   },
   "outputs": [],
   "source": [
    "final_df = pd.read_json(final2001, final2000)\n",
    "display(final_df.head(), final_df.tail())"
   ]
  },
  {
   "cell_type": "code",
   "execution_count": null,
   "id": "4d7a5882",
   "metadata": {},
   "outputs": [],
   "source": [
    "final_df.duplicated().sum()"
   ]
  },
  {
   "cell_type": "code",
   "execution_count": null,
   "id": "029981a4",
   "metadata": {},
   "outputs": [],
   "source": [
    "final_df.duplicated(subset='imdb_id').sum()"
   ]
  },
  {
   "cell_type": "code",
   "execution_count": null,
   "id": "fe3c4866",
   "metadata": {},
   "outputs": [],
   "source": [
    "final_df = final_df.drop_duplicates(subset='imdb_id')\n",
    "final_df.duplicated(subset='imdb_id').sum()"
   ]
  },
  {
   "cell_type": "code",
   "execution_count": null,
   "id": "5b5168d6",
   "metadata": {},
   "outputs": [],
   "source": [
    "final_df.to_csv('Data/tmdb_results_combined.csv.gz', compression='gzip',index=False)"
   ]
  }
 ],
 "metadata": {
  "kernelspec": {
   "display_name": "Python (dojo-env)",
   "language": "python",
   "name": "dojo-env"
  },
  "language_info": {
   "codemirror_mode": {
    "name": "ipython",
    "version": 3
   },
   "file_extension": ".py",
   "mimetype": "text/x-python",
   "name": "python",
   "nbconvert_exporter": "python",
   "pygments_lexer": "ipython3",
   "version": "3.10.9"
  },
  "toc": {
   "base_numbering": 1,
   "nav_menu": {},
   "number_sections": true,
   "sideBar": true,
   "skip_h1_title": false,
   "title_cell": "Table of Contents",
   "title_sidebar": "Contents",
   "toc_cell": false,
   "toc_position": {},
   "toc_section_display": true,
   "toc_window_display": false
  }
 },
 "nbformat": 4,
 "nbformat_minor": 5
}
