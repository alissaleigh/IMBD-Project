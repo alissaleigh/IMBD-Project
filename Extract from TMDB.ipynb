{
 "cells": [
  {
   "cell_type": "markdown",
   "id": "5f2496d6",
   "metadata": {},
   "source": [
    "# Pulling Data From TMDB"
   ]
  },
  {
   "cell_type": "markdown",
   "id": "724b6785",
   "metadata": {},
   "source": [
    "## Importing Inital Data"
   ]
  },
  {
   "cell_type": "code",
   "execution_count": 1,
   "id": "f55ec4ff",
   "metadata": {},
   "outputs": [],
   "source": [
    "import numpy as np\n",
    "import pandas as pd\n",
    "import matplotlib.pyplot as plt\n",
    "import seaborn as sns\n",
    "\n",
    "import os, json, math, time\n",
    "import tmdbsimple as tmdb\n",
    "from tqdm.notebook import tqdm_notebook"
   ]
  },
  {
   "cell_type": "code",
   "execution_count": 2,
   "id": "7800af84",
   "metadata": {},
   "outputs": [
    {
     "data": {
      "text/plain": [
       "dict_keys(['access-token', 'api-key'])"
      ]
     },
     "execution_count": 2,
     "metadata": {},
     "output_type": "execute_result"
    }
   ],
   "source": [
    "with open('/Users/aliss/.secret/tmd_api.json', 'r') as f:\n",
    "    login = json.load(f)\n",
    "    \n",
    "login.keys()"
   ]
  },
  {
   "cell_type": "code",
   "execution_count": 3,
   "id": "06727e52",
   "metadata": {},
   "outputs": [],
   "source": [
    "tmdb.API_KEY =  login['api-key']"
   ]
  },
  {
   "cell_type": "code",
   "execution_count": 4,
   "id": "3c4f3c45",
   "metadata": {},
   "outputs": [
    {
     "data": {
      "text/plain": [
       "['title.akas.tsv.gz', 'title.ratings.tsv.gz', 'title_basics.csv.gz']"
      ]
     },
     "execution_count": 4,
     "metadata": {},
     "output_type": "execute_result"
    }
   ],
   "source": [
    "os.makedirs('Data/',exist_ok=True) \n",
    "os.listdir(\"Data/\")"
   ]
  },
  {
   "cell_type": "code",
   "execution_count": 5,
   "id": "93afaafd",
   "metadata": {},
   "outputs": [],
   "source": [
    "def write_json(new_data, filename):\n",
    "    \n",
    "    with open(filename,'r+') as file:\n",
    "        file_data = json.load(file)\n",
    "        if (type(new_data) == list) & (type(file_data) == list):\n",
    "            file_data.extend(new_data)\n",
    "        else:\n",
    "             file_data.append(new_data)\n",
    "        file.seek(0)\n",
    "        json.dump(file_data, file)"
   ]
  },
  {
   "cell_type": "code",
   "execution_count": 6,
   "id": "f20d86cd",
   "metadata": {},
   "outputs": [],
   "source": [
    "basics = pd.read_csv(r\"C:\\Users\\aliss\\Data\\title_basics.csv.gz\")"
   ]
  },
  {
   "cell_type": "markdown",
   "id": "678e5e86",
   "metadata": {},
   "source": [
    "## Seperating out 2000 and 2001"
   ]
  },
  {
   "cell_type": "code",
   "execution_count": 7,
   "id": "dfbf0e08",
   "metadata": {},
   "outputs": [],
   "source": [
    "YEARS_TO_GET = [2000,2001]"
   ]
  },
  {
   "cell_type": "code",
   "execution_count": 8,
   "id": "6d87731c",
   "metadata": {},
   "outputs": [],
   "source": [
    "errors = [ ]"
   ]
  },
  {
   "cell_type": "code",
   "execution_count": 13,
   "id": "113bf271",
   "metadata": {},
   "outputs": [
    {
     "ename": "SyntaxError",
     "evalue": "incomplete input (3686010215.py, line 4)",
     "output_type": "error",
     "traceback": [
      "\u001b[1;36m  Cell \u001b[1;32mIn[13], line 4\u001b[1;36m\u001b[0m\n\u001b[1;33m    leave=True):\u001b[0m\n\u001b[1;37m                ^\u001b[0m\n\u001b[1;31mSyntaxError\u001b[0m\u001b[1;31m:\u001b[0m incomplete input\n"
     ]
    }
   ],
   "source": [
    "for YEAR in tqdm_notebook(YEARS_TO_GET, \n",
    "                          desc='YEARS',\n",
    "                          position=0,\n",
    "                          leave=True):"
   ]
  },
  {
   "cell_type": "code",
   "execution_count": null,
   "id": "f328901c",
   "metadata": {},
   "outputs": [],
   "source": [
    "JSON_FILE = f'{FOLDER}tmdb_api_results_{YEAR}.json'"
   ]
  },
  {
   "cell_type": "code",
   "execution_count": null,
   "id": "890cd28d",
   "metadata": {},
   "outputs": [],
   "source": [
    "file_exists = os.path.isfile(JSON_FILE)"
   ]
  },
  {
   "cell_type": "code",
   "execution_count": null,
   "id": "d2229086",
   "metadata": {},
   "outputs": [],
   "source": [
    "df = basics.loc[ basics['startYear']==YEAR].copy()\n",
    "\n",
    "movie_ids = df['tconst'].copy()"
   ]
  },
  {
   "cell_type": "code",
   "execution_count": null,
   "id": "17fe27ea",
   "metadata": {},
   "outputs": [],
   "source": [
    "previous_df = pd.read_json(JSON_FILE)"
   ]
  },
  {
   "cell_type": "code",
   "execution_count": null,
   "id": "d39dce3a",
   "metadata": {},
   "outputs": [],
   "source": [
    "movie_ids_to_get = movie_ids[~movie_ids.isin(previous_df['imdb_id'])]"
   ]
  },
  {
   "cell_type": "code",
   "execution_count": null,
   "id": "3c7810db",
   "metadata": {},
   "outputs": [],
   "source": [
    "    for movie_id in tqdm_notebook(movie_ids_to_get,\n",
    "                                  desc=f'Movies from {YEAR}',\n",
    "                                  position=1,\n",
    "                                  leave=True):\n",
    "        try:\n",
    "            temp = get_movie_with_rating(movie_id)\n",
    "            write_json(temp,JSON_FILE)\n",
    "            time.sleep(0.02)\n",
    "            \n",
    "        except Exception as e:\n",
    "            errors.append([movie_id, e])"
   ]
  },
  {
   "cell_type": "code",
   "execution_count": null,
   "id": "50f930e7",
   "metadata": {},
   "outputs": [],
   "source": [
    "final_year_df = pd.read_json(JSON_FILE)\n",
    "final_year_df.to_csv(f\"{FOLDER}final_tmdb_data_{YEAR}.csv.gz\", compression=\"gzip\", index=False)"
   ]
  },
  {
   "cell_type": "code",
   "execution_count": null,
   "id": "8373a4d0",
   "metadata": {},
   "outputs": [],
   "source": [
    "print(f\"- Total errors: {len(errors)}\")"
   ]
  },
  {
   "cell_type": "code",
   "execution_count": null,
   "id": "f9f0d2e0",
   "metadata": {},
   "outputs": [],
   "source": [
    "previous_df = read_and_fix_json(JSON_FILE)"
   ]
  },
  {
   "cell_type": "markdown",
   "id": "70178157",
   "metadata": {},
   "source": [
    "## Exploratory Data Analysis"
   ]
  },
  {
   "cell_type": "code",
   "execution_count": null,
   "id": "9b65119d",
   "metadata": {},
   "outputs": [],
   "source": [
    "#Load in your csv.gz's of results for each year extracted"
   ]
  },
  {
   "cell_type": "code",
   "execution_count": null,
   "id": "22494c74",
   "metadata": {},
   "outputs": [],
   "source": [
    "#How many movies had at least some valid financial information"
   ]
  },
  {
   "cell_type": "code",
   "execution_count": null,
   "id": "7c6fd7c9",
   "metadata": {},
   "outputs": [],
   "source": [
    "#How many movies are there in each of the certification categories"
   ]
  },
  {
   "cell_type": "code",
   "execution_count": null,
   "id": "27c635fa",
   "metadata": {},
   "outputs": [],
   "source": [
    "#What is the average revenue per certification category?"
   ]
  },
  {
   "cell_type": "code",
   "execution_count": null,
   "id": "999efbf9",
   "metadata": {},
   "outputs": [],
   "source": [
    "#What is the average budget per certification category?"
   ]
  },
  {
   "cell_type": "markdown",
   "id": "946bcae0",
   "metadata": {},
   "source": [
    "## Deliverables"
   ]
  },
  {
   "cell_type": "code",
   "execution_count": null,
   "id": "a2f6edd3",
   "metadata": {},
   "outputs": [],
   "source": []
  }
 ],
 "metadata": {
  "kernelspec": {
   "display_name": "Python (dojo-env)",
   "language": "python",
   "name": "dojo-env"
  },
  "language_info": {
   "codemirror_mode": {
    "name": "ipython",
    "version": 3
   },
   "file_extension": ".py",
   "mimetype": "text/x-python",
   "name": "python",
   "nbconvert_exporter": "python",
   "pygments_lexer": "ipython3",
   "version": "3.10.9"
  }
 },
 "nbformat": 4,
 "nbformat_minor": 5
}
